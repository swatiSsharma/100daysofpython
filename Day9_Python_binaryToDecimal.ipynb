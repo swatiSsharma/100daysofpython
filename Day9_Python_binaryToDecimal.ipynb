{
 "cells": [
  {
   "cell_type": "markdown",
   "metadata": {},
   "source": [
    "# Binary to Decimal\n",
    "\n",
    "**Problem Description**\n",
    "\n",
    "You are given a number A in binary format (Base = 2). You have to print the number in decimal format (Base = 10).\n",
    "\n",
    "**Problem Constraints**\n",
    "\n",
    "1 <= A <= 210\n",
    "\n",
    "**Input Format**\n",
    "\n",
    "First and only line contains a single binary number A.\n",
    "\n",
    "**Output Format**\n",
    "\n",
    "Print in a single line, a decimal integer.\n",
    "\n",
    "**Example Input**\n",
    "\n",
    "Input 1: 11 \n",
    ">\n",
    ">Input 2: 1011 \n",
    "\n",
    "**Example Output**\n",
    "\n",
    "Output 1: 3 \n",
    ">\n",
    ">Output 2: 11 \n",
    "\n",
    "**Example Explanation**\n",
    "\n",
    ">Explanation 1:\n",
    "\n",
    " (0011)<sub>2</sub> = (21 + 20)<sub>10</sub> = (3)<sub>10</sub>\n",
    "\n",
    ">Explanation 2:\n",
    "\n",
    " (1010)<sub>2</sub> = (23+ 21 + 20)<sub>10</sub> = (11)<sub>10</sub>"
   ]
  },
  {
   "cell_type": "code",
   "execution_count": 1,
   "metadata": {},
   "outputs": [
    {
     "name": "stdout",
     "output_type": "stream",
     "text": [
      "0011\n",
      "3\n"
     ]
    }
   ],
   "source": [
    "def main():\n",
    "    # YOUR CODE GOES HERE\n",
    "    # Please take input and print output to standard input/output (stdin/stdout)\n",
    "    # E.g. 'input()/raw_input()' for input & 'print' for output\n",
    "    n = input()\n",
    "    print(int(n,2))\n",
    "    return 0\n",
    "\n",
    "if __name__ == '__main__':\n",
    "    main()"
   ]
  }
 ],
 "metadata": {
  "kernelspec": {
   "display_name": "Python 3",
   "language": "python",
   "name": "python3"
  },
  "language_info": {
   "codemirror_mode": {
    "name": "ipython",
    "version": 3
   },
   "file_extension": ".py",
   "mimetype": "text/x-python",
   "name": "python",
   "nbconvert_exporter": "python",
   "pygments_lexer": "ipython3",
   "version": "3.8.3"
  }
 },
 "nbformat": 4,
 "nbformat_minor": 4
}
