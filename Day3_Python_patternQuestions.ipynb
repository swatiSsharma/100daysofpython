{
 "cells": [
  {
   "cell_type": "markdown",
   "metadata": {},
   "source": [
    "# Pattern 1\n",
    "\n",
    " *****\n",
    " *****\n",
    " *****\n",
    " *****\n",
    " *****"
   ]
  },
  {
   "cell_type": "code",
   "execution_count": 1,
   "metadata": {},
   "outputs": [
    {
     "name": "stdout",
     "output_type": "stream",
     "text": [
      "5\n",
      "*****\n",
      "*****\n",
      "*****\n",
      "*****\n",
      "*****\n"
     ]
    }
   ],
   "source": [
    "n = int(input())\n",
    "for i in range(n):\n",
    "    for j in range(n):\n",
    "        print('*', end = '')\n",
    "    print()\n",
    "\n"
   ]
  },
  {
   "cell_type": "markdown",
   "metadata": {},
   "source": [
    "# Pattern 2\n",
    "\n",
    "1\n",
    "1 2\n",
    "1 2 3\n",
    "1 2 3 4\n",
    "1 2 3 4 5"
   ]
  },
  {
   "cell_type": "code",
   "execution_count": 2,
   "metadata": {},
   "outputs": [
    {
     "name": "stdout",
     "output_type": "stream",
     "text": [
      "Enter the  number of rows: 5\n",
      "\n",
      "1\n",
      "1 2\n",
      "1 2 3\n",
      "1 2 3 4\n",
      "1 2 3 4 5\n"
     ]
    }
   ],
   "source": [
    "n = int(input(\"Enter the  number of rows: \"))\n",
    "print()\n",
    "for i in range(1, n + 1):\n",
    "    for j in range(1, i + 1):\n",
    "        if j != i:\n",
    "            print(j,end= \" \")\n",
    "        else:\n",
    "            print(j,end= \"\")\n",
    "    print()"
   ]
  },
  {
   "cell_type": "markdown",
   "metadata": {},
   "source": [
    "# Pattern 3\n",
    "\n",
    "1\n",
    "2 1\n",
    "3 2 1\n",
    "4 3 2 1\n",
    "5 4 3 2 1"
   ]
  },
  {
   "cell_type": "code",
   "execution_count": 3,
   "metadata": {},
   "outputs": [
    {
     "name": "stdout",
     "output_type": "stream",
     "text": [
      "Enter the  number of rows: 5\n",
      "\n",
      "1 \n",
      "2 1 \n",
      "3 2 1 \n",
      "4 3 2 1 \n",
      "5 4 3 2 1 \n"
     ]
    }
   ],
   "source": [
    "n = int(input(\"Enter the  number of rows: \"))\n",
    "print()\n",
    "\n",
    "for i in range(1, n + 1):\n",
    "    \n",
    "    # reversering the index of the column\n",
    "    for j in range(i,0,-1):\n",
    "        \n",
    "            print(j,end= \" \")\n",
    "\n",
    "    print()"
   ]
  },
  {
   "cell_type": "markdown",
   "metadata": {},
   "source": [
    "# Pattern 4\n",
    "\n",
    "1\n",
    "2 2\n",
    "3 3 3\n",
    "4 4 4 4\n",
    "5 5 5 5 5"
   ]
  },
  {
   "cell_type": "code",
   "execution_count": 4,
   "metadata": {},
   "outputs": [
    {
     "name": "stdout",
     "output_type": "stream",
     "text": [
      "Enter the  number of rows: 5\n",
      "\n",
      "1 \n",
      "2 2 \n",
      "3 3 3 \n",
      "4 4 4 4 \n",
      "5 5 5 5 5 \n"
     ]
    }
   ],
   "source": [
    "n = int(input(\"Enter the  number of rows: \"))\n",
    "print()\n",
    "\n",
    "for i in range(1, n + 1):\n",
    "    for j in range(1,i+1):\n",
    "            print(i,end= \" \")\n",
    "\n",
    "    print()"
   ]
  },
  {
   "cell_type": "markdown",
   "metadata": {},
   "source": [
    "# Pattern 5\n",
    "\n",
    "5\n",
    "4 4\n",
    "3 3 3\n",
    "2 2 2 2\n",
    "1 1 1 1 1"
   ]
  },
  {
   "cell_type": "code",
   "execution_count": 5,
   "metadata": {},
   "outputs": [
    {
     "name": "stdout",
     "output_type": "stream",
     "text": [
      "Enter the  number of rows: 5\n",
      "\n",
      "5 \n",
      "4 4 \n",
      "3 3 3 \n",
      "2 2 2 2 \n",
      "1 1 1 1 1 \n"
     ]
    }
   ],
   "source": [
    "n = int(input(\"Enter the  number of rows: \"))\n",
    "print()\n",
    "\n",
    "for i in range(1,n+1):\n",
    "    for j in range(i,0,-1):\n",
    "        \n",
    "            print(n +1 -i,end= \" \")\n",
    "\n",
    "    print()"
   ]
  },
  {
   "cell_type": "markdown",
   "metadata": {},
   "source": [
    "# Pattern 6\n",
    "\n",
    "5\n",
    "5 4\n",
    "5 4 3\n",
    "5 4 3 2\n",
    "5 4 3 2 1"
   ]
  },
  {
   "cell_type": "code",
   "execution_count": 6,
   "metadata": {},
   "outputs": [
    {
     "name": "stdout",
     "output_type": "stream",
     "text": [
      "Enter the  number of rows: 5\n",
      "\n",
      "5 \n",
      "5 4 \n",
      "5 4 3 \n",
      "5 4 3 2 \n",
      "5 4 3 2 1 \n"
     ]
    }
   ],
   "source": [
    "n = int(input(\"Enter the  number of rows: \"))\n",
    "print()\n",
    "\n",
    "for i in range(n):\n",
    "    for j in range( i+1):\n",
    "        print(n -j ,end = \" \")\n",
    "    print()\n",
    "      "
   ]
  },
  {
   "cell_type": "markdown",
   "metadata": {},
   "source": [
    "# Pattern 7\n",
    "\n",
    "5\n",
    "4 5\n",
    "3 4 5\n",
    "2 3 4 5\n",
    "1 2 3 4 5"
   ]
  },
  {
   "cell_type": "code",
   "execution_count": 7,
   "metadata": {},
   "outputs": [
    {
     "name": "stdout",
     "output_type": "stream",
     "text": [
      "Enter the  number of rows: 5\n",
      "\n",
      "5 \n",
      "4 5 \n",
      "3 4 5 \n",
      "2 3 4 5 \n",
      "1 2 3 4 5 \n"
     ]
    }
   ],
   "source": [
    "n = int(input(\"Enter the  number of rows: \"))\n",
    "print()\n",
    "\n",
    "for i in range(n):\n",
    "    for j in range(i,-1,-1):\n",
    "        print(n-j ,end = \" \")\n",
    "    print()"
   ]
  },
  {
   "cell_type": "markdown",
   "metadata": {},
   "source": [
    "# Pattern 8\n",
    "        1\n",
    "      2 1\n",
    "    3 2 1\n",
    "  4 3 2 1\n",
    "5 4 3 2 1\n",
    "\n",
    "trick:\n",
    "space = n-i-1"
   ]
  },
  {
   "cell_type": "code",
   "execution_count": 8,
   "metadata": {},
   "outputs": [
    {
     "name": "stdout",
     "output_type": "stream",
     "text": [
      "Enter numbers of rows needed: 5\n",
      "        1 \n",
      "      2 1 \n",
      "    3 2 1 \n",
      "  4 3 2 1 \n",
      "5 4 3 2 1 \n"
     ]
    }
   ],
   "source": [
    "n = int(input(\"Enter numbers of rows needed: \"))\n",
    "for i in range(n):\n",
    "    for j in range(n-i-1):\n",
    "        print(\" \", end = ' ')\n",
    "    for j in range(i,-1,-1):\n",
    "        print(j+1, end = \" \")\n",
    "    print()"
   ]
  },
  {
   "cell_type": "markdown",
   "metadata": {},
   "source": [
    "# Pattern 9\n",
    "\n",
    "        1\n",
    "      1 2 \n",
    "    1 2 3\n",
    "  1 2 3 4\n",
    "1 2 3 4 5"
   ]
  },
  {
   "cell_type": "code",
   "execution_count": 9,
   "metadata": {},
   "outputs": [
    {
     "name": "stdout",
     "output_type": "stream",
     "text": [
      "Enter numbers of rows needed: 5\n",
      "        1 \n",
      "      1 2 \n",
      "    1 2 3 \n",
      "  1 2 3 4 \n",
      "1 2 3 4 5 \n"
     ]
    }
   ],
   "source": [
    "n = int(input(\"Enter numbers of rows needed: \"))\n",
    "for i in range(n):\n",
    "    for j in range(n-i-1):\n",
    "        print(\" \", end = ' ')\n",
    "    for j in range(i+1):\n",
    "        print(j+1, end = \" \")\n",
    "    print()"
   ]
  },
  {
   "cell_type": "markdown",
   "metadata": {},
   "source": [
    "# Pattern 10\n",
    "\n",
    "        1 \n",
    "      2 2 \n",
    "    3 3 3 \n",
    "  4 4 4 4 \n",
    "5 5 5 5 5"
   ]
  },
  {
   "cell_type": "code",
   "execution_count": 10,
   "metadata": {},
   "outputs": [
    {
     "name": "stdout",
     "output_type": "stream",
     "text": [
      "Enter numbers of rows needed: 5\n",
      "        1 \n",
      "      2 2 \n",
      "    3 3 3 \n",
      "  4 4 4 4 \n",
      "5 5 5 5 5 \n"
     ]
    }
   ],
   "source": [
    "n = int(input(\"Enter numbers of rows needed: \"))\n",
    "for i in range(n):\n",
    "    for j in range(n-i-1):\n",
    "        print(\" \", end = ' ') \n",
    "    for j in range(i,-1,-1):\n",
    "        print(i+1, end = \" \")\n",
    "    print()"
   ]
  },
  {
   "cell_type": "markdown",
   "metadata": {},
   "source": [
    "# Pattern 11\n",
    "\n",
    "        5 \n",
    "      4 4 \n",
    "    3 3 3 \n",
    "  2 2 2 2 \n",
    "1 1 1 1 1"
   ]
  },
  {
   "cell_type": "code",
   "execution_count": 11,
   "metadata": {},
   "outputs": [
    {
     "name": "stdout",
     "output_type": "stream",
     "text": [
      "        5 \n",
      "      4 4 \n",
      "    3 3 3 \n",
      "  2 2 2 2 \n",
      "1 1 1 1 1 \n"
     ]
    }
   ],
   "source": [
    "n = int(input(\"Enter numbers of rows needed: \"))\n",
    "for i in range(n):\n",
    "    for j in range(n-i-1):\n",
    "        print(\" \", end = ' ') \n",
    "    for j in range(i,-1,-1):\n",
    "        print(n-i, end = \" \")\n",
    "    print()"
   ]
  },
  {
   "cell_type": "markdown",
   "metadata": {},
   "source": [
    "# Pattern 12\n",
    "        5 \n",
    "      4 5 \n",
    "    3 4 5 \n",
    "  2 3 4 5 \n",
    "1 2 3 4 5"
   ]
  },
  {
   "cell_type": "code",
   "execution_count": 12,
   "metadata": {},
   "outputs": [
    {
     "name": "stdout",
     "output_type": "stream",
     "text": [
      "Enter numbers of rows needed: 5\n",
      "        5 \n",
      "      4 5 \n",
      "    3 4 5 \n",
      "  2 3 4 5 \n",
      "1 2 3 4 5 \n"
     ]
    }
   ],
   "source": [
    "n = int(input(\"Enter numbers of rows needed: \"))\n",
    "for i in range(n):\n",
    "    for j in range(n-i-1):\n",
    "        print(\" \", end = ' ') \n",
    "    for j in range(i,-1,-1):\n",
    "        print(n-j, end = \" \")\n",
    "    print() "
   ]
  }
 ],
 "metadata": {
  "kernelspec": {
   "display_name": "Python 3",
   "language": "python",
   "name": "python3"
  },
  "language_info": {
   "codemirror_mode": {
    "name": "ipython",
    "version": 3
   },
   "file_extension": ".py",
   "mimetype": "text/x-python",
   "name": "python",
   "nbconvert_exporter": "python",
   "pygments_lexer": "ipython3",
   "version": "3.8.3"
  }
 },
 "nbformat": 4,
 "nbformat_minor": 4
}
