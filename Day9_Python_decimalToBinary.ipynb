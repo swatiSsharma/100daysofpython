{
 "cells": [
  {
   "cell_type": "markdown",
   "metadata": {},
   "source": [
    "# Decimal to Binary\n",
    "\n",
    "**Problem Description**\n",
    "You are given an integer A in decimal (base 10).\n",
    "Return a string denoting the binary (base 2) form of the integer A.\n",
    "\n",
    "**Problem Constraints**\n",
    "1 <= A <= 109\n",
    "\n",
    "**Input Format**\n",
    "The first line of input contains the integer T, denoting the number of test cases.\n",
    "Next T lines contain a single integer A, denoting the integer for that test case.\n",
    "\n",
    "**Output Format**\n",
    "Print T lines. In each line, print the string denoting the binary representation of A.\n",
    "\n",
    "**Example Input**\n",
    ">\n",
    ">Input 1:\n",
    " >>1\n",
    " >\n",
    " >>10\n",
    ">\n",
    ">Input 2:\n",
    "\n",
    " >>2\n",
    " >\n",
    " >>10\n",
    " >\n",
    " >>11\n",
    "\n",
    "**Example Output**\n",
    ">Output 1:\n",
    "\n",
    " >>1010\n",
    ">\n",
    ">Output 2:\n",
    "\n",
    " >>1010\n",
    " >\n",
    " >>1011\n",
    ">\n",
    "\n",
    "**Example Explanation**\n",
    "\n",
    ">Explanation 1:\n",
    "\n",
    "The binary form of 10 is given by -> '1010'\n",
    "\n",
    ">Explanation 2:\n",
    "\n",
    "The binary form of 11 is given by -> '1011'\n"
   ]
  },
  {
   "cell_type": "code",
   "execution_count": 1,
   "metadata": {},
   "outputs": [
    {
     "name": "stdout",
     "output_type": "stream",
     "text": [
      "2\n",
      "10\n",
      "1010\n",
      "15\n",
      "1111\n"
     ]
    }
   ],
   "source": [
    "def main():\n",
    "    # YOUR CODE GOES HERE\n",
    "    # Please take input and print output to standard input/output (stdin/stdout)\n",
    "    # E.g. 'input()/raw_input()' for input & 'print' for output\n",
    "    n = int(input())\n",
    "    for i in range(n):\n",
    "        i = int(input())\n",
    "        print(\"{0:b}\".format(int(i)))\n",
    "    return 0\n",
    "\n",
    "if __name__ == '__main__':\n",
    "    main()"
   ]
  }
 ],
 "metadata": {
  "kernelspec": {
   "display_name": "Python 3",
   "language": "python",
   "name": "python3"
  },
  "language_info": {
   "codemirror_mode": {
    "name": "ipython",
    "version": 3
   },
   "file_extension": ".py",
   "mimetype": "text/x-python",
   "name": "python",
   "nbconvert_exporter": "python",
   "pygments_lexer": "ipython3",
   "version": "3.8.3"
  }
 },
 "nbformat": 4,
 "nbformat_minor": 4
}
