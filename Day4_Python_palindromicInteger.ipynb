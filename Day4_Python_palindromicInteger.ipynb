{
 "cells": [
  {
   "cell_type": "markdown",
   "metadata": {},
   "source": [
    "# Palindromic Integer\n",
    "\n",
    "**Problem Description\n",
    "\n",
    "Given an integer A, determine whether it is palindromic or not.\n",
    "<br>\n",
    "A palindrome integer is an integer X for which reverse(X) = X where reverse(X) is X with its digits reversed. For e.g., reverse(123) = 321.\n",
    "\n",
    "**Problem Constraints\n",
    "\n",
    "1 <= A <= 106\n",
    "\n",
    "**Input Format\n",
    "\n",
    "First and the only line contains a single integer A.\n",
    "\n",
    "**Output Format\n",
    "\n",
    "Print Yes if it is palindromic, else print No.\n",
    "\n",
    "**Example Input\n",
    "\n",
    ">Input 1: 120 \n",
    ">\n",
    ">Input 2: 1001 \n",
    ">\n",
    ">Input 3: 131 \n",
    "\n",
    "**Example Output\n",
    "\n",
    ">Output 1: No \n",
    ">\n",
    ">Output 2: Yes \n",
    ">\n",
    ">Output 3: Yes \n",
    "\n",
    "**Example Explanation\n",
    "\n",
    "> **Explanation 1:**\n",
    ">\n",
    ">>For A = 120, reverse(A) = reverse(120) = 021 = 21 (removing leading zeroes). 120 is not equal to 21 \n",
    ">\n",
    "> **Explanation 2:**\n",
    ">\n",
    ">>For A = 1001, reverse(A) = reverse(1001) = 1001, which is same as A.\n",
    ">\n",
    "> **Explanation 3:**\n",
    ">\n",
    ">>For A = 131, reverse(A) = reverse(131) = 131, which is same as A. "
   ]
  },
  {
   "cell_type": "code",
   "execution_count": 1,
   "metadata": {},
   "outputs": [
    {
     "name": "stdout",
     "output_type": "stream",
     "text": [
      "1001\n",
      "Yes\n"
     ]
    }
   ],
   "source": [
    "def main():\n",
    "    # YOUR CODE GOES HERE\n",
    "    # Please take input and print output to standard input/output (stdin/stdout)\n",
    "    # E.g. 'input()/raw_input()' for input & 'print' for output\n",
    "    a = input()\n",
    "    if a == a[::-1]:\n",
    "        print(\"Yes\")\n",
    "    else:\n",
    "        print(\"No\")\n",
    "    return 0\n",
    "\n",
    "if __name__ == '__main__':\n",
    "    main()"
   ]
  }
 ],
 "metadata": {
  "kernelspec": {
   "display_name": "Python 3",
   "language": "python",
   "name": "python3"
  },
  "language_info": {
   "codemirror_mode": {
    "name": "ipython",
    "version": 3
   },
   "file_extension": ".py",
   "mimetype": "text/x-python",
   "name": "python",
   "nbconvert_exporter": "python",
   "pygments_lexer": "ipython3",
   "version": "3.8.3"
  }
 },
 "nbformat": 4,
 "nbformat_minor": 4
}
