{
 "cells": [
  {
   "cell_type": "markdown",
   "metadata": {},
   "source": [
    "# Vowel Or Consonant\n",
    "\n",
    "**Problem Description**\n",
    "\n",
    "You are given a lowercase latin alphabetic character C. You have to tell whether it is a vowel or not.\n",
    "\n",
    "The characters 'a', 'e', 'i', 'o', and 'u' are called vowels.\n",
    "\n",
    "**Problem Constraints**\n",
    "\n",
    "C ∈ ['a' - 'z']\n",
    "\n",
    "**Input Format**\n",
    "\n",
    "The input consists of a single character C.\n",
    "\n",
    "**Output Format**\n",
    "\n",
    "Print 1 if the given character is a vowel, else print 0.\n",
    "\n",
    "**Example Input**\n",
    "\n",
    ">Input 1: a\n",
    ">\n",
    ">Input 2: b \n",
    "\n",
    "**Example Output**\n",
    "\n",
    ">Output 1: 1 \n",
    ">\n",
    ">Output 2: 0 \n",
    "\n",
    "**Example Explanation**\n",
    "\n",
    ">Explanation 1:\n",
    ">\n",
    ">> 'a' is a vowel.\n",
    ">\n",
    ">Explanation 2:\n",
    ">\n",
    ">> 'b' is a consonant (not a vowel). \n"
   ]
  },
  {
   "cell_type": "code",
   "execution_count": 1,
   "metadata": {},
   "outputs": [
    {
     "name": "stdout",
     "output_type": "stream",
     "text": [
      "b\n",
      "0\n"
     ]
    }
   ],
   "source": [
    "def main():\n",
    "    # YOUR CODE GOES HERE\n",
    "    # Please take input and print output to standard input/output (stdin/stdout)\n",
    "    # E.g. 'input()/raw_input()' for input & 'print' for output\n",
    "    C = input()\n",
    "    vowels = [ 'a', 'e', 'i', 'o', 'u' ]\n",
    "    if C in vowels:\n",
    "        print(1)\n",
    "    else:\n",
    "        print(0)\n",
    "    return 0\n",
    "\n",
    "if __name__ == '__main__':\n",
    "    main()"
   ]
  }
 ],
 "metadata": {
  "kernelspec": {
   "display_name": "Python 3",
   "language": "python",
   "name": "python3"
  },
  "language_info": {
   "codemirror_mode": {
    "name": "ipython",
    "version": 3
   },
   "file_extension": ".py",
   "mimetype": "text/x-python",
   "name": "python",
   "nbconvert_exporter": "python",
   "pygments_lexer": "ipython3",
   "version": "3.7.6"
  }
 },
 "nbformat": 4,
 "nbformat_minor": 4
}
