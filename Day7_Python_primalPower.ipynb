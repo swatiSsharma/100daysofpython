{
 "cells": [
  {
   "cell_type": "markdown",
   "metadata": {},
   "source": [
    "# Primal Power\n",
    "\n",
    "**Problem Description**\n",
    "\n",
    "\"Primal Power\" of an array is defined as the count of prime numbers present in it.\n",
    "\n",
    "Given an array of integers A of length N, you have to calculate its Primal Power.\n",
    "\n",
    "**Problem Constraints**\n",
    "\n",
    "1 <= N <= 103\n",
    "\n",
    "-106 <= A[i] <= 106\n",
    "\n",
    "**Input Format**\n",
    "\n",
    "First and only argument is an integer array A.\n",
    "\n",
    "**Output Format**\n",
    "\n",
    "Return the Primal Power of array A.\n",
    "\n",
    "**Example Input**\n",
    "\n",
    "Input 1: A = [-6, 10, 12]\n",
    "<br>Input 2: A = [-11, 7, 8, 9, 10, 11]\n",
    "\n",
    "**Example Output**\n",
    "\n",
    "Output 1: 0\n",
    "<br>Output 2: 2\n",
    "\n",
    "**Example Explanation**\n",
    "\n",
    ">Explanation 1:\n",
    "\n",
    "  -6 is not a prime number, as prime numbers are always natural numbers(by definition). \n",
    "<br>  Also, both 10 and 12 are composite numbers.\n",
    "\n",
    ">Explanation 2:\n",
    "\n",
    " 7 and 11 are prime numbers. Hence, Primal Power = 2.\n"
   ]
  },
  {
   "cell_type": "code",
   "execution_count": 2,
   "metadata": {},
   "outputs": [
    {
     "data": {
      "text/plain": [
       "2"
      ]
     },
     "execution_count": 2,
     "metadata": {},
     "output_type": "execute_result"
    }
   ],
   "source": [
    "class Solution:\n",
    "    # @param A : list of integers\n",
    "    # @return an integer\n",
    "    def solve(self, A):\n",
    "        primes = []\n",
    "\n",
    "        for num in A:\n",
    "            if num == 2:\n",
    "                primes.append(num)\n",
    "            else:\n",
    "                is_prime = True\n",
    "                for i in range(2, num):\n",
    "                    if num % i == 0:\n",
    "                        is_prime = False\n",
    "                        break\n",
    "\n",
    "                    \n",
    "                if num > 1 and is_prime == True:\n",
    "                        #print (num)\n",
    "                    primes.append(num)\n",
    "\n",
    "        return len(primes)\n",
    "\n",
    "obj = Solution()\n",
    "obj.solve([-11, 7, 8, 9, 10, 11])"
   ]
  }
 ],
 "metadata": {
  "kernelspec": {
   "display_name": "Python 3",
   "language": "python",
   "name": "python3"
  },
  "language_info": {
   "codemirror_mode": {
    "name": "ipython",
    "version": 3
   },
   "file_extension": ".py",
   "mimetype": "text/x-python",
   "name": "python",
   "nbconvert_exporter": "python",
   "pygments_lexer": "ipython3",
   "version": "3.7.6"
  }
 },
 "nbformat": 4,
 "nbformat_minor": 4
}
