{
 "cells": [
  {
   "cell_type": "markdown",
   "metadata": {},
   "source": [
    "# Sum of Odds\n",
    "\n",
    "**Problem Description**\n",
    "\n",
    "You are given a positive integer A. You have to print the sum of all odd numbers in the range [1, A].\n",
    "\n",
    "**Problem Constraints**\n",
    "\n",
    "1 <= A <= 1000\n",
    "\n",
    "**Input Format**\n",
    "\n",
    "First and only line contains a single positive integer A.\n",
    "\n",
    "**Output Format**\n",
    "\n",
    "Print the required sum in a single line.\n",
    "\n",
    "**Example Input**\n",
    "\n",
    "> Input 1: 1 \n",
    ">\n",
    ">Input 2: 4 \n",
    "\n",
    "**Example Output**\n",
    "\n",
    ">Output 1: 1 \n",
    ">\n",
    ">Output 2: 4 \n",
    "\n",
    "**Example Explanation**\n",
    "\n",
    ">Explanation 1:\n",
    ">\n",
    ">>For A = 1, 1 is the only odd number which lies in the range [1, 1].\n",
    ">\n",
    ">Explanation 2:\n",
    ">\n",
    ">> For A = 4, Odd numbers 1 and 3 lie in the range [1, 4]. \n",
    "<br> Sum = 1 + 3 = 4. "
   ]
  },
  {
   "cell_type": "code",
   "execution_count": 1,
   "metadata": {},
   "outputs": [
    {
     "name": "stdout",
     "output_type": "stream",
     "text": [
      "6\n",
      "9\n"
     ]
    }
   ],
   "source": [
    "def main():\n",
    "    # YOUR CODE GOES HERE\n",
    "    # Please take input and print output to standard input/output (stdin/stdout)\n",
    "    # E.g. 'input()/raw_input()' for input & 'print' for output\n",
    "    a = int(input())\n",
    "    i , sum = 1, 0\n",
    "\n",
    "    while i <= a:\n",
    "        if (i & 1) != 0:\n",
    "            sum += i\n",
    "        i += 1\n",
    "    print(sum)\n",
    "    return 0\n",
    "\n",
    "if __name__ == '__main__':\n",
    "    main()"
   ]
  }
 ],
 "metadata": {
  "kernelspec": {
   "display_name": "Python 3",
   "language": "python",
   "name": "python3"
  },
  "language_info": {
   "codemirror_mode": {
    "name": "ipython",
    "version": 3
   },
   "file_extension": ".py",
   "mimetype": "text/x-python",
   "name": "python",
   "nbconvert_exporter": "python",
   "pygments_lexer": "ipython3",
   "version": "3.8.3"
  }
 },
 "nbformat": 4,
 "nbformat_minor": 4
}
