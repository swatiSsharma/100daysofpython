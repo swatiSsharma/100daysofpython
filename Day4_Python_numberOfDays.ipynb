{
 "cells": [
  {
   "cell_type": "markdown",
   "metadata": {},
   "source": [
    "# Number of days?\n",
    "\n",
    "**Problem Description**\n",
    "\n",
    "Given a month number, A and an year, B, return the number of days in that month (take leap years into account).\n",
    "\n",
    "**Problem Constraints**\n",
    "\n",
    "1 <= A <= 12\n",
    "1 <= B <= 109\n",
    "\n",
    "**Input Format**\n",
    "\n",
    "<br>First argument is an integer A denoting the month number.\n",
    "<br>Second argument is an intege B denoting the year.\n",
    "\n",
    "**Output Format**\n",
    "\n",
    "Return an integer denoting the count of days in the given month.\n",
    "\n",
    "**Example Input**\n",
    "\n",
    ">Input 1: A = 2 and B = 2020\n",
    ">\n",
    ">Input 2: A = 10 and B = 1999\n",
    ">\n",
    "\n",
    "**Example Output**\n",
    "\n",
    ">Output 1: 29\n",
    ">\n",
    ">Output 2: 31\n",
    ">\n",
    "\n",
    "**Example Explanation**\n",
    "\n",
    "> **Explanation 1:**\n",
    " >>2020 is a leap year and month is February. So number of days are 29.\n",
    ">\n",
    "> **Explanation 2:**\n",
    "\n",
    " >>There are 31 days in month of october."
   ]
  },
  {
   "cell_type": "code",
   "execution_count": 7,
   "metadata": {},
   "outputs": [
    {
     "name": "stdout",
     "output_type": "stream",
     "text": [
      "29\n",
      "28\n"
     ]
    }
   ],
   "source": [
    "class Solution:\n",
    "    # @param A : integer\n",
    "    # @param B : integer\n",
    "    # @return an integer\n",
    "    def solve(self, A, B):\n",
    "        # from calendar import monthrange\n",
    "        # c = monthrange(B, A)[1]\n",
    "        def leap_year(B):\n",
    "            if B % 400 == 0:\n",
    "                return True\n",
    "            if B % 100 == 0:\n",
    "                return False\n",
    "            if B % 4 == 0:\n",
    "                return True\n",
    "            return False\n",
    "\n",
    "        \n",
    "        if A in {1, 3, 5, 7, 8, 10, 12}:\n",
    "            return 31\n",
    "        elif A == 2:\n",
    "            if leap_year(B):\n",
    "                return 29\n",
    "            return 28\n",
    "        else:\n",
    "            return 30\n",
    "\n",
    "        return 0\n",
    "\n",
    "obj = Solution()\n",
    "print(obj.solve(2, 2020))\n",
    "print(obj.solve(2, 1900))\n"
   ]
  }
 ],
 "metadata": {
  "kernelspec": {
   "display_name": "Python 3",
   "language": "python",
   "name": "python3"
  },
  "language_info": {
   "codemirror_mode": {
    "name": "ipython",
    "version": 3
   },
   "file_extension": ".py",
   "mimetype": "text/x-python",
   "name": "python",
   "nbconvert_exporter": "python",
   "pygments_lexer": "ipython3",
   "version": "3.8.3"
  }
 },
 "nbformat": 4,
 "nbformat_minor": 4
}
