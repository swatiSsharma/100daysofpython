{
 "cells": [
  {
   "cell_type": "markdown",
   "metadata": {},
   "source": [
    "# Sum of evens!\n",
    "\n",
    "**Problem Description**\n",
    "\n",
    "You are given an integer A, you need to find and return the sum of all the even numbers between 1 and A.\n",
    "Even numbers are those numbers that are divisible by 2.\n",
    "\n",
    "**Problem Constraints**\n",
    "\n",
    "1 <= N <= 500\n",
    "\n",
    "**Input Format**\n",
    "\n",
    "First and only argument is an integer A.\n",
    "\n",
    "**Output Format**\n",
    "\n",
    "Return an integer denoting the sum of even numbers between [1, A] (both inclusive).\n",
    "\n",
    "**Example Input**\n",
    "\n",
    "> Input 1:\n",
    ">\n",
    ">>5\n",
    ">\n",
    "> Input 2:\n",
    ">\n",
    " >>2\n",
    "\n",
    "**Example Output**\n",
    "\n",
    ">Output 1:\n",
    ">\n",
    ">>6\n",
    ">\n",
    ">Output 2:\n",
    ">\n",
    ">>2\n",
    "\n",
    "**Example Explanation**\n",
    "\n",
    ">Explanation 1:\n",
    ">\n",
    " >>Even numbers between [1, 5] are (2, 4).\n",
    ">\n",
    ">Explanation 2:\n",
    ">\n",
    " >>Even numbers between [1, 2] are (2)"
   ]
  },
  {
   "cell_type": "code",
   "execution_count": 1,
   "metadata": {},
   "outputs": [
    {
     "data": {
      "text/plain": [
       "6"
      ]
     },
     "execution_count": 1,
     "metadata": {},
     "output_type": "execute_result"
    }
   ],
   "source": [
    "class Solution:\n",
    "    # @param A : integer\n",
    "    # @return an integer\n",
    "    def solve(self, A):\n",
    "        sum = 0\n",
    "        for i in range(1,A+1):\n",
    "            if i & 1 == 0:\n",
    "                sum += i\n",
    "        return sum\n",
    " \n",
    "obj = Solution()\n",
    "obj.solve(5)"
   ]
  }
 ],
 "metadata": {
  "kernelspec": {
   "display_name": "Python 3",
   "language": "python",
   "name": "python3"
  },
  "language_info": {
   "codemirror_mode": {
    "name": "ipython",
    "version": 3
   },
   "file_extension": ".py",
   "mimetype": "text/x-python",
   "name": "python",
   "nbconvert_exporter": "python",
   "pygments_lexer": "ipython3",
   "version": "3.8.3"
  }
 },
 "nbformat": 4,
 "nbformat_minor": 4
}
