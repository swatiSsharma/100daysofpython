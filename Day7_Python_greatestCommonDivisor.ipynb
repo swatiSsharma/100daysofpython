{
 "cells": [
  {
   "cell_type": "markdown",
   "metadata": {},
   "source": [
    "# Greatest Common Divisor\n",
    "\n",
    "**Problem Description**\n",
    "\n",
    "Given 2 non negative integers A and B, find gcd(A, B)\n",
    "\n",
    "GCD of 2 integers A and B is defined as the greatest integer g such that g is a divisor of both A and B. Both A and B fit in a 32 bit signed integer.\n",
    "\n",
    "**Note** *: DO NOT USE LIBRARY FUNCTIONS.*\n",
    "\n",
    "**Problem Constraints**\n",
    "\n",
    "0 <= A, B <= 109\n",
    "\n",
    "**Input Format**\n",
    "\n",
    "First argument is an integer A.\n",
    "Second argument is an integer B.\n",
    "\n",
    "**Output Format**\n",
    "\n",
    "Return an integer denoting the gcd(A, B).\n",
    "\n",
    "**Example Input**\n",
    "\n",
    ">Input 1:\n",
    ">\n",
    "A = 4\n",
    "<br>B = 6\n",
    ">Input 2:\n",
    ">\n",
    "A = 6\n",
    "<br>B = 7\n",
    "\n",
    "**Example Output**\n",
    "\n",
    ">Output 1: 2\n",
    ">\n",
    ">Output 2: 1\n",
    "\n",
    "**Example Explanation**\n",
    "\n",
    ">Explanation 1:\n",
    ">\n",
    " 2 divides both 4 and 6\n",
    ">Explanation 2:\n",
    ">\n",
    " 1 divides both 6 and 7"
   ]
  },
  {
   "cell_type": "code",
   "execution_count": 2,
   "metadata": {},
   "outputs": [
    {
     "data": {
      "text/plain": [
       "1"
      ]
     },
     "execution_count": 2,
     "metadata": {},
     "output_type": "execute_result"
    }
   ],
   "source": [
    "class Solution:\n",
    "    # @param A : integer\n",
    "    # @param B : integer\n",
    "    # @return an integer\n",
    "    def gcd(self, A, B):\n",
    "        if A == 0:\n",
    "            return B\n",
    "        elif B == 0:\n",
    "            return A\n",
    "\n",
    "        if A > B:\n",
    "            smaller  = B\n",
    "        else:\n",
    "            smaller = A \n",
    "        \n",
    "        for i in range(1, smaller+1):\n",
    "            if A % i == 0 and B % i == 0:\n",
    "                hcf = i\n",
    "        return hcf\n",
    "\n",
    "obj = Solution()\n",
    "obj.gcd(6,7)"
   ]
  }
 ],
 "metadata": {
  "kernelspec": {
   "display_name": "Python 3",
   "language": "python",
   "name": "python3"
  },
  "language_info": {
   "codemirror_mode": {
    "name": "ipython",
    "version": 3
   },
   "file_extension": ".py",
   "mimetype": "text/x-python",
   "name": "python",
   "nbconvert_exporter": "python",
   "pygments_lexer": "ipython3",
   "version": "3.7.6"
  }
 },
 "nbformat": 4,
 "nbformat_minor": 4
}
