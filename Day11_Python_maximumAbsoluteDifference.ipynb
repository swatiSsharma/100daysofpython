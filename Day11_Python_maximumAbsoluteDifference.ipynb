{
 "cells": [
  {
   "cell_type": "markdown",
   "metadata": {},
   "source": [
    "# Maximum Absolute Difference\n",
    "\n",
    "**Problem Description**\n",
    "\n",
    "You are given an array of N integers, A1, A2, …. AN.\n",
    "\n",
    "Return the maximum value of f(i, j) for all 1 ≤ i, j ≤ N. f(i, j) is defined as |A[i] - A[j]| + |i - j|, where |x| denotes absolute value of x.\n",
    "\n",
    "**Problem Constraints**\n",
    "\n",
    "1 <= N <= 100000\n",
    "\n",
    "<br>-109 <= A[i] <= 109\n",
    "\n",
    "**Input Format**\n",
    "\n",
    "First argument is an integer array A of size N.\n",
    "\n",
    "**Output Format**\n",
    "\n",
    "Return an integer denoting the maximum value of f(i, j).\n",
    "\n",
    "**Example Input**\n",
    "\n",
    ">Input 1: A = [1, 3, -1]\n",
    ">\n",
    ">Input 2: A = [2]\n",
    "\n",
    "**Example Output**\n",
    "\n",
    ">Output 1: 5\n",
    ">\n",
    ">Output 2: 0\n",
    "\n",
    "\n",
    "**Example Explanation**\n",
    "\n",
    ">Explanation 1:\n",
    "\n",
    "f(1, 1) = f(2, 2) = f(3, 3) = 0\n",
    "<br>f(1, 2) = f(2, 1) = |1 - 3| + |1 - 2| = 3\n",
    "<br>f(1, 3) = f(3, 1) = |1 - (-1)| + |1 - 3| = 4\n",
    "<br>f(2, 3) = f(3, 2) = |3 - (-1)| + |2 - 3| = 5\n",
    "\n",
    "<br>So, we return 5.\n",
    "\n",
    ">Explanation 2:\n",
    "\n",
    "Only possibility is i = 1 and j = 1. That gives answer = 0."
   ]
  },
  {
   "cell_type": "code",
   "execution_count": 1,
   "metadata": {},
   "outputs": [
    {
     "data": {
      "text/plain": [
       "5"
      ]
     },
     "execution_count": 1,
     "metadata": {},
     "output_type": "execute_result"
    }
   ],
   "source": [
    "class Solution:\n",
    "    # @param A : list of integers\n",
    "    # @return an integer\n",
    "    def maxArr(self, A):\n",
    "        \n",
    "        import sys\n",
    "       # A.sort()\n",
    "        max1 = sys.maxsize * -1\n",
    "        max2 = sys.maxsize * -1\n",
    "        min1 = sys.maxsize\n",
    "        min2 = sys.maxsize\n",
    "        for i in range(len(A)):\n",
    "            \n",
    "            max1 = max(max1, A[i] + i)\n",
    "            min1 = min(min1, A[i] + i)\n",
    "            max2 = max(max2, A[i] - i)\n",
    "            min2 = min(min2, A[i] - i)\n",
    "\n",
    "        #print(max1, max2, min1, min2)\n",
    "\n",
    "\n",
    "                # if A[i]-A[j] > 0 & i-j > 0:\n",
    "                #     md =  A[i] - A[j] + i - j  --- A[i] + i\n",
    "\n",
    "                # elif A[i]-A[j] < 0 & i-j > 0:\n",
    "                #     md = -A[i] - A[j] + i - j  --- -A[i] +i\n",
    "\n",
    "                # elif A[i]-A[j] > 0 & i-j < 0:\n",
    "                #     md =  A[i] - A[j] - i + j  --- -A[i] + i\n",
    "\n",
    "                # elif A[i]-A[j] < 0 & i-j < 0:\n",
    "                #     md = -A[i] + A[j] - i + j  --- - (A[i]+i)\n",
    "        #print('hi',max(max1 - min1, max2 - min2))\n",
    "            \n",
    "        return max(max1 - min1, max2 - min2)\n",
    "\n",
    "obj = Solution()\n",
    "obj.maxArr([1, 3, -1])"
   ]
  }
 ],
 "metadata": {
  "kernelspec": {
   "display_name": "Python 3",
   "language": "python",
   "name": "python3"
  },
  "language_info": {
   "codemirror_mode": {
    "name": "ipython",
    "version": 3
   },
   "file_extension": ".py",
   "mimetype": "text/x-python",
   "name": "python",
   "nbconvert_exporter": "python",
   "pygments_lexer": "ipython3",
   "version": "3.8.3"
  }
 },
 "nbformat": 4,
 "nbformat_minor": 4
}
