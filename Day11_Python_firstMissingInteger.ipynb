{
 "cells": [
  {
   "cell_type": "markdown",
   "metadata": {},
   "source": [
    "# First Missing Integer\n",
    "\n",
    "**Problem Description**\n",
    "\n",
    "Given an unsorted integer array A of size N. Find the first missing positive integer.\n",
    "\n",
    "<BR>**Note**: Your algorithm should run in O(n) time and use constant space.\n",
    "\n",
    "**Problem Constraints**\n",
    "\n",
    "1 <= N <= 1000000\n",
    "\n",
    "<BR>-109 <= A[i] <= 109\n",
    "\n",
    "**Input Format**\n",
    "\n",
    "First argument is an integer array A.\n",
    "\n",
    "**Output Format**\n",
    "\n",
    "Return an integer denoting the first missing positive integer.\n",
    "\n",
    "**Example Input**\n",
    "\n",
    "Input 1: [1, 2, 0]\n",
    ">\n",
    ">Input 2: [3, 4, -1, 1]\n",
    ">\n",
    ">Input 3: [-8, -7, -6]\n",
    "\n",
    "**Example Output**\n",
    "\n",
    "Output 1: 3\n",
    ">\n",
    ">Output 2: 2\n",
    ">\n",
    ">Output 3: 1\n",
    "\n",
    "**Example Explanation**\n",
    "\n",
    "Explanation 1:\n",
    "\n",
    ">A = [1, 2, 0]\n",
    "><BR>First positive integer missing from the array is 3."
   ]
  },
  {
   "cell_type": "code",
   "execution_count": 1,
   "metadata": {},
   "outputs": [
    {
     "data": {
      "text/plain": [
       "3"
      ]
     },
     "execution_count": 1,
     "metadata": {},
     "output_type": "execute_result"
    }
   ],
   "source": [
    "class Solution:\n",
    "    # @param A : list of integers\n",
    "    # @return an integer\n",
    "    def firstMissingPositive(self, A):\n",
    "        A.append(0)\n",
    "        n = len(A)\n",
    "        arr = [0 for _ in range(n)]\n",
    "        for i in range(n):\n",
    "            if 0 < A[i] <= n:\n",
    "                arr[A[i]-1] += 1\n",
    "\n",
    "        for i in range(n):\n",
    "            if arr[i] == 0:\n",
    "                return i +1\n",
    "            \n",
    "obj = Solution()\n",
    "obj.firstMissingPositive([1, 2, 0])"
   ]
  }
 ],
 "metadata": {
  "kernelspec": {
   "display_name": "Python 3",
   "language": "python",
   "name": "python3"
  },
  "language_info": {
   "codemirror_mode": {
    "name": "ipython",
    "version": 3
   },
   "file_extension": ".py",
   "mimetype": "text/x-python",
   "name": "python",
   "nbconvert_exporter": "python",
   "pygments_lexer": "ipython3",
   "version": "3.8.3"
  }
 },
 "nbformat": 4,
 "nbformat_minor": 4
}
