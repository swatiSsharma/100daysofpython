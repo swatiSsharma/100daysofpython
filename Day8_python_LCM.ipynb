{
 "cells": [
  {
   "cell_type": "markdown",
   "metadata": {},
   "source": [
    "# Least Common Multiple\n",
    "\n",
    "**Problem Description**\n",
    "\n",
    "You are given two non-negative integers A and B, find the value of Least Common Multiple (LCM) of A and B.\n",
    "\n",
    "LCM of two integers is the smallest positive integer that is divisible by both.\n",
    "\n",
    "**Problem Constraints**\n",
    "\n",
    "1 <= A, B <= 1000\n",
    "\n",
    "**Input Format**\n",
    "\n",
    "First argument is an integer A.\n",
    "\n",
    "Second argument is an integer B.\n",
    "\n",
    "**Output Format**\n",
    "\n",
    "Return an integer.\n",
    "\n",
    "**Example Input**\n",
    "\n",
    ">Input 1:\n",
    ">\n",
    ">> A = 2\n",
    ">> B = 3 \n",
    ">\n",
    ">Input 2:\n",
    ">\n",
    ">> A = 9\n",
    ">> B = 6\n",
    ">\n",
    ">Input 3:\n",
    ">\n",
    ">> A = 2\n",
    ">> B = 6\n",
    "\n",
    "**Example Output**\n",
    "\n",
    ">Output 1: 6 \n",
    ">\n",
    ">Output 2: 18 \n",
    ">\n",
    ">Output 3: 6 \n",
    "\n",
    "**Example Explanation**\n",
    "\n",
    ">Explanation 1:\n",
    "\n",
    " 6 is the smallest positive integer which is divisible by both 2 (2 * 3 = 6) and 3 (3 * 2 = 6).\n",
    "\n",
    ">Explanation 2:\n",
    "\n",
    " 18 is the smallest positive integer which is divisible by both 9 (9 * 2 = 18) and 6 (6 * 3 = 18).\n",
    "\n",
    ">Explanation 3:\n",
    "\n",
    " 6 is the smallest positive integer which is divisible by both 2 (2 * 3 = 6) and 6 (6 * 1 = 6)."
   ]
  },
  {
   "cell_type": "code",
   "execution_count": 2,
   "metadata": {},
   "outputs": [
    {
     "data": {
      "text/plain": [
       "18"
      ]
     },
     "execution_count": 2,
     "metadata": {},
     "output_type": "execute_result"
    }
   ],
   "source": [
    "class Solution:\n",
    "    # @param A : integer\n",
    "    # @param B : integer\n",
    "    # @return an integer\n",
    "    def LCM(self, A, B):\n",
    "        if A > B:\n",
    "            greater = A\n",
    "        else:\n",
    "            greater = B\n",
    "\n",
    "        while(True):\n",
    "            if((greater % A == 0) and (greater % B == 0)):\n",
    "                lcm = greater\n",
    "                break\n",
    "            greater += 1\n",
    "\n",
    "        return lcm\n",
    "    \n",
    "    \n",
    "obj = Solution()\n",
    "obj.LCM(9,6)"
   ]
  }
 ],
 "metadata": {
  "kernelspec": {
   "display_name": "Python 3",
   "language": "python",
   "name": "python3"
  },
  "language_info": {
   "codemirror_mode": {
    "name": "ipython",
    "version": 3
   },
   "file_extension": ".py",
   "mimetype": "text/x-python",
   "name": "python",
   "nbconvert_exporter": "python",
   "pygments_lexer": "ipython3",
   "version": "3.7.6"
  }
 },
 "nbformat": 4,
 "nbformat_minor": 4
}
