{
 "cells": [
  {
   "cell_type": "markdown",
   "metadata": {},
   "source": [
    "## Bank Account\n",
    "\n",
    "**Problem Description**\n",
    "\n",
    "You are given a Bank account having N amount and you are asked to perfrom ADD(credit) and SUBTRACT(debit) operations.\n",
    "After each operation print the amount left in the Bank account. If the debit amount is greater than current balance print \"Insufficient Funds\"(without quotes) and the operation is skipped.\n",
    "\n",
    "**Problem Constraints**\n",
    "\n",
    "1 <= N, X <= 1011\n",
    "1 <= Number of operations <= 105\n",
    "\n",
    "**Input Format**\n",
    "\n",
    "- First line contains a single integer N denoting the balance in bank account.\n",
    "- Second line contains a single integer M denoting the number of operations.\n",
    "- Each of next M lines contains two space separated integers Type and Amount(X).\n",
    "\n",
    "    - If Type == 1, Perform ADD operation.\n",
    "    - If Type == 2, Perform SUBTRACT operation.\n",
    "\n",
    "**Output Format**\n",
    "\n",
    "Print Amount in the bank balance after each operation on a new line.\n",
    "\n",
    "**Example Input**\n",
    "\n",
    "1000\n",
    "<br>3\n",
    "<br>1 500\n",
    "<br>2 1400\n",
    "<br>2 500\n",
    "\n",
    "**Example Output**\n",
    "\n",
    "1500\n",
    "<br>100\n",
    "<br>Insufficient Funds\n",
    "\n",
    "**Example Explanation**\n",
    "\n",
    "1. Initially bank balance is 1000. \n",
    "2. First operation, ADD 500, bank balance becomes 1500, print it.\n",
    "3. Second operation, SUBTRACT 1400, bank balance becomes 100, print it.\n",
    "4. Third operation, SUBTRACT 500, print \"Insufficient Finds\"."
   ]
  },
  {
   "cell_type": "code",
   "execution_count": 2,
   "metadata": {},
   "outputs": [
    {
     "name": "stdout",
     "output_type": "stream",
     "text": [
      "1000 \n",
      "3 \n",
      "1 500 \n",
      "1500\n",
      "2 1400 \n",
      "100\n",
      "2 500\n",
      "Insufficient Funds\n"
     ]
    }
   ],
   "source": [
    "# Solution to the problem statement\n",
    "\n",
    "def main():\n",
    "    # YOUR CODE GOES HERE\n",
    "    # Please take input and print output to standard input/output (stdin/stdout)\n",
    "    # E.g. 'input()/raw_input()' for input & 'print' for output\n",
    "    N = int(input())\n",
    "    M = int(input())\n",
    "    for i in range(1, M+1):\n",
    "        \n",
    "        input_str = input()\n",
    "        input_str = input_str.split(' ', 1)\n",
    "        Type, Amount = int(input_str[0]),int(input_str[1])\n",
    "\n",
    "        if N > 0:\n",
    "            \n",
    "            if Type == 1 :\n",
    "                N += Amount\n",
    "                print(N)\n",
    "            elif Type == 2:\n",
    "                N -= Amount\n",
    "                if N < 0:\n",
    "                    print(\"Insufficient Funds\")\n",
    "                    N += Amount\n",
    "                else:\n",
    "                    print(N)\n",
    "        else:\n",
    "            print(\"Insufficient Funds\")\n",
    "            \n",
    "    \n",
    "    return 0\n",
    "\n",
    "if __name__ == '__main__':\n",
    "    main()"
   ]
  }
 ],
 "metadata": {
  "kernelspec": {
   "display_name": "Python 3",
   "language": "python",
   "name": "python3"
  },
  "language_info": {
   "codemirror_mode": {
    "name": "ipython",
    "version": 3
   },
   "file_extension": ".py",
   "mimetype": "text/x-python",
   "name": "python",
   "nbconvert_exporter": "python",
   "pygments_lexer": "ipython3",
   "version": "3.8.3"
  }
 },
 "nbformat": 4,
 "nbformat_minor": 4
}
