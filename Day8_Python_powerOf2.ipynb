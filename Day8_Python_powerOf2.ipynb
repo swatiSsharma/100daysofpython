{
 "cells": [
  {
   "cell_type": "markdown",
   "metadata": {},
   "source": [
    "# Power of 2\n",
    "\n",
    "**Problem Description**\n",
    "\n",
    "Find if Given number is power of 2 or not. More specifically, find if given number can be expressed as 2^k where k >= 1.\n",
    "\n",
    "**Input:**\n",
    "\n",
    "number length can be more than 64, which mean number can be greater than 2 ^ 64 (out of long long range)\n",
    "\n",
    "**Output:**\n",
    "\n",
    "return 1 if the number is a power of 2 else return 0\n",
    "\n",
    "**Example**\n",
    "\n",
    "Input : 128\n",
    "Output : 1"
   ]
  },
  {
   "cell_type": "code",
   "execution_count": 2,
   "metadata": {},
   "outputs": [
    {
     "data": {
      "text/plain": [
       "1"
      ]
     },
     "execution_count": 2,
     "metadata": {},
     "output_type": "execute_result"
    }
   ],
   "source": [
    "class Solution:\n",
    "    # @param A : string\n",
    "    # @return an integer\n",
    "    def power(self, A):\n",
    "        n = int(A)\n",
    "\n",
    "        if (n == 0 or n == 1):\n",
    "            return 0\n",
    "        while (n != 1):\n",
    "            if (n % 2 != 0):\n",
    "                return 0\n",
    "            n = n // 2\n",
    "             \n",
    "        return 1\n",
    "    \n",
    "obj = Solution()\n",
    "obj.power(\"128\")"
   ]
  }
 ],
 "metadata": {
  "kernelspec": {
   "display_name": "Python 3",
   "language": "python",
   "name": "python3"
  },
  "language_info": {
   "codemirror_mode": {
    "name": "ipython",
    "version": 3
   },
   "file_extension": ".py",
   "mimetype": "text/x-python",
   "name": "python",
   "nbconvert_exporter": "python",
   "pygments_lexer": "ipython3",
   "version": "3.7.6"
  }
 },
 "nbformat": 4,
 "nbformat_minor": 4
}
