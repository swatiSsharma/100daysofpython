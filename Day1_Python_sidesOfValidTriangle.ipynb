{
 "cells": [
  {
   "cell_type": "markdown",
   "metadata": {},
   "source": [
    "## Q1. Sides Of Valid Triangle?\n",
    "\n",
    "**Problem Description**\n",
    "\n",
    "You are given 3 integer sides of a triangle A, B and C. You have to tell whether the triangle is valid or not.\n",
    "A triangle is valid if sum of its two sides is greater than the third side.\n",
    "\n",
    "**Problem Constraints**\n",
    "\n",
    "1 <= A, B, C <= 109\n",
    "\n",
    "**Input Format**\n",
    "\n",
    "- First line of the input contains an integer A.\n",
    "- Second line of the input contains an integer B.\n",
    "- Third line of the input contains an integer C.\n",
    "\n",
    "**Output Format**\n",
    "\n",
    "Print 1 if the triangle having given sides is valid, else print 0.\n",
    "\n",
    "**Example Input**\n",
    "\n",
    ">Input 1:\n",
    ">\n",
    " >>4\n",
    ">\n",
    " >>5\n",
    "> \n",
    " >>3\n",
    ">\n",
    ">Input 2:\n",
    ">\n",
    " >>1\n",
    ">\n",
    " >>2\n",
    ">\n",
    " >>3\n",
    "\n",
    "**Example Output**\n",
    "\n",
    ">Output 1:\n",
    " >>1 \n",
    " >\n",
    ">Output 2:\n",
    " >>0 \n",
    "\n",
    "**Example Explanation**\n",
    ">Explanation 1:\n",
    "   >>*Given triangle is a right-triangle having hypotenuse length = 5.*\n",
    ">\n",
    ">Explanation 2:\n",
    "   >>*Triangle having given side lengths is not valid.*"
   ]
  },
  {
   "cell_type": "code",
   "execution_count": 1,
   "metadata": {},
   "outputs": [
    {
     "name": "stdout",
     "output_type": "stream",
     "text": [
      "4\n",
      "5\n",
      "3\n",
      "1\n"
     ]
    }
   ],
   "source": [
    "# Solution to the problem statement\n",
    "\n",
    "def main():\n",
    "    # YOUR CODE GOES HERE\n",
    "    # Please take input and print output to standard input/output (stdin/stdout)\n",
    "    # E.g. 'input()/raw_input()' for input & 'print' for output\n",
    "    \n",
    "    a = int(input())\n",
    "    b = int(input())\n",
    "    c = int(input())\n",
    "\n",
    "    if (a + b > c) and (b + c > a) and (c + a > b):\n",
    "        print(\"1\")\n",
    "    else:\n",
    "        print(\"0\")\n",
    "    return 0\n",
    "\n",
    "if __name__ == '__main__':\n",
    "    main()"
   ]
  }
 ],
 "metadata": {
  "kernelspec": {
   "display_name": "Python 3",
   "language": "python",
   "name": "python3"
  },
  "language_info": {
   "codemirror_mode": {
    "name": "ipython",
    "version": 3
   },
   "file_extension": ".py",
   "mimetype": "text/x-python",
   "name": "python",
   "nbconvert_exporter": "python",
   "pygments_lexer": "ipython3",
   "version": "3.8.3"
  }
 },
 "nbformat": 4,
 "nbformat_minor": 4
}
