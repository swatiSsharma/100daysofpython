{
 "cells": [
  {
   "cell_type": "markdown",
   "metadata": {},
   "source": [
    "# Diverse Characters\n",
    "\n",
    "**Problem Description**\n",
    "\n",
    "You are given a character string A having length N.\n",
    "\n",
    "The string consists of 2 types of characters:\n",
    "<Br> - Alphabets : ['a'-'z', 'A'-'Z']\n",
    "<br> - Digits: ['0'-'9']\n",
    "<br>You have to tell the count of characters of the maximum occuring character type.\n",
    "\n",
    "**Problem Constraints**\n",
    "\n",
    "1 <= N <= 105\n",
    "\n",
    "**Input Format**\n",
    "\n",
    "First and only argument is a character string A.\n",
    "\n",
    "**Output Format**\n",
    "\n",
    "Return an integer.\n",
    "\n",
    "**Example Input**\n",
    "\n",
    ">Input 1: A = \"HelloUser1\"\n",
    ">\n",
    ">Input 2: A = \"M1234\"\n",
    "\n",
    "**Example Output**\n",
    "\n",
    ">Output 1: 9 \n",
    ">\n",
    ">Output 2: 4 \n",
    "\n",
    "**Example Explanation**\n",
    "\n",
    ">Explanation 1:\n",
    ">\n",
    ">> Count of alphabets = 9(max)\n",
    ">> Count of digits = 1\n",
    ">\n",
    ">Explanation 2:\n",
    ">\n",
    ">>Count of alphabets = 1\n",
    ">>Count of digits = 4(max)"
   ]
  },
  {
   "cell_type": "code",
   "execution_count": 2,
   "metadata": {},
   "outputs": [
    {
     "data": {
      "text/plain": [
       "9"
      ]
     },
     "execution_count": 2,
     "metadata": {},
     "output_type": "execute_result"
    }
   ],
   "source": [
    "class Solution:\n",
    "    # @param A : string\n",
    "    # @return an integer\n",
    "    def solve(self, A):\n",
    "        count = 0\n",
    "        for i in range(len(A)):\n",
    "            if (65 <= ord(A[i]) <= 90) or  (97 <= ord(A[i]) <= 122):\n",
    "                count += 1\n",
    "        #print(count)\n",
    "        return count\n",
    "    \n",
    "obj = Solution()\n",
    "obj.solve('HelloUser1')\n"
   ]
  }
 ],
 "metadata": {
  "kernelspec": {
   "display_name": "Python 3",
   "language": "python",
   "name": "python3"
  },
  "language_info": {
   "codemirror_mode": {
    "name": "ipython",
    "version": 3
   },
   "file_extension": ".py",
   "mimetype": "text/x-python",
   "name": "python",
   "nbconvert_exporter": "python",
   "pygments_lexer": "ipython3",
   "version": "3.8.3"
  }
 },
 "nbformat": 4,
 "nbformat_minor": 4
}
