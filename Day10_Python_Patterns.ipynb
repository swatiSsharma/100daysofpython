{
 "cells": [
  {
   "cell_type": "markdown",
   "metadata": {},
   "source": [
    "# Pattern 1: Simple Number Triangle Pattern\n",
    "\n",
    "Pattern:\n",
    "\n",
    "1  \n",
    "\n",
    "2 2  \n",
    "\n",
    "3 3 3  \n",
    "\n",
    "4 4 4 4  \n",
    "\n",
    "5 5 5 5 5"
   ]
  },
  {
   "cell_type": "code",
   "execution_count": 13,
   "metadata": {},
   "outputs": [
    {
     "name": "stdout",
     "output_type": "stream",
     "text": [
      "1  \n",
      "2 2  \n",
      "3 3 3  \n",
      "4 4 4 4  \n",
      "5 5 5 5 5  \n"
     ]
    }
   ],
   "source": [
    "num = 5\n",
    "\n",
    "for row in range(1,num + 1):\n",
    "    for column in range( row):\n",
    "        print(row,end=\" \")\n",
    "    print(\" \")"
   ]
  },
  {
   "cell_type": "markdown",
   "metadata": {},
   "source": [
    "# Pattern 2: Inverted Pyramid of Numbers\n",
    "\n",
    "Pattern:\n",
    "\n",
    "1 1 1 1 1 \n",
    "\n",
    "2 2 2 2 \n",
    "\n",
    "3 3 3 \n",
    "\n",
    "4 4 \n",
    "\n",
    "5"
   ]
  },
  {
   "cell_type": "code",
   "execution_count": 29,
   "metadata": {},
   "outputs": [
    {
     "name": "stdout",
     "output_type": "stream",
     "text": [
      "1 1 1 1 1  \n",
      "2 2 2 2  \n",
      "3 3 3  \n",
      "4 4  \n",
      "5  \n"
     ]
    }
   ],
   "source": [
    "num = 5\n",
    "a = 0\n",
    "for row in range(num,0,-1):\n",
    "    a += 1\n",
    "    for column in range(1,row+1):\n",
    "        print(a,end=\" \")\n",
    "    print(\" \")"
   ]
  },
  {
   "cell_type": "markdown",
   "metadata": {},
   "source": [
    "# Pattern 3: Half Pyramid Pattern of Numbers\n",
    "Pattern:\n",
    "\n",
    "1 \n",
    "\n",
    "1 2 \n",
    "\n",
    "1 2 3 \n",
    "\n",
    "1 2 3 4 \n",
    "\n",
    "1 2 3 4 5"
   ]
  },
  {
   "cell_type": "code",
   "execution_count": 23,
   "metadata": {},
   "outputs": [
    {
     "name": "stdout",
     "output_type": "stream",
     "text": [
      "1  \n",
      "1 2  \n",
      "1 2 3  \n",
      "1 2 3 4  \n",
      "1 2 3 4 5  \n"
     ]
    }
   ],
   "source": [
    "num = 5\n",
    "\n",
    "for row in range(1,num+1):\n",
    "    for column in range(1,row+1):\n",
    "        print(column,end=\" \")\n",
    "    print(\" \")\n",
    "    # print('\\n')\n"
   ]
  },
  {
   "cell_type": "markdown",
   "metadata": {},
   "source": [
    "# Pattern 4: Inverted Pyramid of Descending Numbers\n",
    "Pattern:\n",
    "\n",
    "5 5 5 5 5 \n",
    "\n",
    "4 4 4 4 \n",
    "\n",
    "3 3 3 \n",
    "\n",
    "2 2 \n",
    "\n",
    "1"
   ]
  },
  {
   "cell_type": "code",
   "execution_count": 24,
   "metadata": {},
   "outputs": [
    {
     "name": "stdout",
     "output_type": "stream",
     "text": [
      "5 5 5 5 5  \n",
      "4 4 4 4  \n",
      "3 3 3  \n",
      "2 2  \n",
      "1  \n"
     ]
    }
   ],
   "source": [
    "num = 5\n",
    "a = 0\n",
    "for row in range(num,0,-1):\n",
    "    a += 1\n",
    "    for column in range(1, row+1):\n",
    "        print(row,end=\" \")\n",
    "    print(' ')"
   ]
  },
  {
   "cell_type": "markdown",
   "metadata": {},
   "source": [
    "# Pattern 5: Inverted Pyramid of the Same Digit\n",
    "\n",
    "Pattern:\n",
    "\n",
    "5 5 5 5 5 \n",
    "\n",
    "5 5 5 5 \n",
    "\n",
    "5 5 5 \n",
    "\n",
    "5 5 \n",
    "\n",
    "5"
   ]
  },
  {
   "cell_type": "code",
   "execution_count": 30,
   "metadata": {},
   "outputs": [
    {
     "name": "stdout",
     "output_type": "stream",
     "text": [
      "5 5 5 5 5  \n",
      "5 5 5 5  \n",
      "5 5 5  \n",
      "5 5  \n",
      "5  \n"
     ]
    }
   ],
   "source": [
    "num = 5\n",
    "a  = 0\n",
    "for row in range(num,0,-1):\n",
    "    for column in range(1, row+1):\n",
    "        print(num,end=\" \")\n",
    "    print(\" \")"
   ]
  },
  {
   "cell_type": "markdown",
   "metadata": {},
   "source": [
    "# Pattern 6: Reverse Pyramid of Numbers\n",
    "\n",
    "Pattern:\n",
    "\n",
    "1 \n",
    "\n",
    "2 1 \n",
    "\n",
    "3 2 1 \n",
    "\n",
    "4 3 2 1 \n",
    "\n",
    "5 4 3 2 1"
   ]
  },
  {
   "cell_type": "code",
   "execution_count": 32,
   "metadata": {},
   "outputs": [
    {
     "name": "stdout",
     "output_type": "stream",
     "text": [
      "1  \n",
      "2 1  \n",
      "3 2 1  \n",
      "4 3 2 1  \n",
      "5 4 3 2 1  \n"
     ]
    }
   ],
   "source": [
    "num = 5\n",
    "\n",
    "for row in range(1,num+1):\n",
    "    for column in range(row,0,-1):\n",
    "        print(column,end =\" \")\n",
    "    print(\" \")"
   ]
  },
  {
   "cell_type": "markdown",
   "metadata": {},
   "source": [
    "# Pattern 7: Inverted Half Pyramid Number Pattern\n",
    "\n",
    "Pattern:\n",
    "\n",
    "0 1 2 3 4 5 \n",
    "\n",
    "0 1 2 3 4 \n",
    "\n",
    "0 1 2 3 \n",
    "\n",
    "0 1 2 \n",
    "\n",
    "0 1"
   ]
  },
  {
   "cell_type": "code",
   "execution_count": 39,
   "metadata": {},
   "outputs": [
    {
     "name": "stdout",
     "output_type": "stream",
     "text": [
      "0 1 2 3 4 5  \n",
      "0 1 2 3 4  \n",
      "0 1 2 3  \n",
      "0 1 2  \n",
      "0 1  \n"
     ]
    }
   ],
   "source": [
    "num = 5\n",
    "\n",
    "for row in range(num,0,-1):\n",
    "    \n",
    "    for column in range(0,row+1):\n",
    "        print(column,end =\" \")\n",
    "    print(\" \")"
   ]
  },
  {
   "cell_type": "markdown",
   "metadata": {},
   "source": [
    "# Pattern 8: Pyramid of Natural Numbers Less Than 10\n",
    "\n",
    "Pattern:\n",
    "\n",
    "1 \n",
    "\n",
    "2 3 4 \n",
    "\n",
    "5 6 7 8 9"
   ]
  },
  {
   "cell_type": "code",
   "execution_count": null,
   "metadata": {},
   "outputs": [],
   "source": []
  },
  {
   "cell_type": "markdown",
   "metadata": {},
   "source": [
    "# Pattern 9: Printing Alphabets triangle\n",
    "\n",
    "Pattern:\n",
    "\n",
    "A\n",
    "\n",
    "B C\n",
    "\n",
    "C D E\n",
    "\n",
    "D E F G\n",
    "\n",
    "E F G H I"
   ]
  },
  {
   "cell_type": "code",
   "execution_count": 3,
   "metadata": {},
   "outputs": [
    {
     "name": "stdout",
     "output_type": "stream",
     "text": [
      "Enter the number of Rows: 5\n",
      "A \n",
      "B C \n",
      "C D E \n",
      "D E F G \n",
      "E F G H I \n"
     ]
    }
   ],
   "source": [
    "num = int(input(\"Enter the number of Rows: \"))\n",
    "\n",
    "for row in range(num):\n",
    "    k = ord(\"A\")+ row\n",
    "    for column in range(row+1):\n",
    "        \n",
    "        print(chr(k),end =\" \")\n",
    "        k = k+1\n",
    "    print()"
   ]
  },
  {
   "cell_type": "markdown",
   "metadata": {},
   "source": [
    "# Pattern 10: Printing Alphabets Triangle\n",
    "\n",
    "Pattern\n",
    "\n",
    "A \n",
    "B C \n",
    "D E F \n",
    "G H I J \n",
    "K L M N O"
   ]
  },
  {
   "cell_type": "code",
   "execution_count": 4,
   "metadata": {},
   "outputs": [
    {
     "name": "stdout",
     "output_type": "stream",
     "text": [
      "Enter the number of Rows: 5\n",
      "A \n",
      "B C \n",
      "D E F \n",
      "G H I J \n",
      "K L M N O \n"
     ]
    }
   ],
   "source": [
    "num = int(input(\"Enter the number of Rows: \"))\n",
    "k = ord(\"A\")\n",
    "for row in range(num):\n",
    "\n",
    "    for column in range(row+1):\n",
    "        \n",
    "        print(chr(k),end =\" \")\n",
    "        k = k+1\n",
    "    print()"
   ]
  }
 ],
 "metadata": {
  "kernelspec": {
   "display_name": "Python 3",
   "language": "python",
   "name": "python3"
  },
  "language_info": {
   "codemirror_mode": {
    "name": "ipython",
    "version": 3
   },
   "file_extension": ".py",
   "mimetype": "text/x-python",
   "name": "python",
   "nbconvert_exporter": "python",
   "pygments_lexer": "ipython3",
   "version": "3.8.3"
  }
 },
 "nbformat": 4,
 "nbformat_minor": 4
}
