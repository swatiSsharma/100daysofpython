{
 "cells": [
  {
   "cell_type": "markdown",
   "metadata": {},
   "source": [
    "# Percentage and Grade\n",
    "\n",
    "**Problem Description**\n",
    "\n",
    "Write a program to input from user five numbers(A, B, C, D & E) representing marks of student in 5 subjects out of 100. You have to calculate percentage and then Grade of each student.\n",
    "\n",
    "If percentage >= 90% : Grade A\n",
    "<br>If percentage >= 80% : Grade B\n",
    "<br>If percentage >= 70% : Grade C\n",
    "<br>If percentage >= 60% : Grade D\n",
    "<br>If percentage >= 40% : Grade E\n",
    "<br>If percentage < 40% : Grade F\n",
    "\n",
    "**NOTE** *: You have to take the lowest integer of percentage. E.g. 90.8% will be treated as 90%.*\n",
    "\n",
    "**Problem Constraints**\n",
    "\n",
    "0 <= A <= 100\n",
    "<br>\n",
    "<br>0 <= B <= 100\n",
    "<br>\n",
    "<br>0 <= C <= 100\n",
    "<br>\n",
    "<br>0 <= D <= 100\n",
    "<br>\n",
    "<br>0 <= E <= 100\n",
    "\n",
    "**Input Format**\n",
    "\n",
    "One line containing five space separated integers A, B, C, D & E.\n",
    "\n",
    "**Output Format**\n",
    "\n",
    "1 line containing an integer followed by a char as per the question.\n",
    "\n",
    "**Example Input**\n",
    "\n",
    "> Input 1: 50 60 70 80 90\n",
    ">\n",
    ">Input 2: 90 90 90 90 90\n",
    "\n",
    "\n",
    "**Example Output**\n",
    "\n",
    ">Output 1: 70 C\n",
    ">\n",
    ">Output 2: 90 A\n",
    "\n",
    "**Example Explanation**\n",
    "\n",
    "> Explanation 1:\n",
    "\n",
    "For Student 1, percentage = (50+60+70+80+90)/5 = 70. Hence grade is C.\n",
    ">\n",
    ">Explanation 2:\n",
    "\n",
    "For Student 2, percentage = (90+90+90+90+90)/5 = 90. Hence grade is A."
   ]
  },
  {
   "cell_type": "code",
   "execution_count": 3,
   "metadata": {},
   "outputs": [
    {
     "name": "stdout",
     "output_type": "stream",
     "text": [
      "97 98 92 94 87\n",
      "93 A\n"
     ]
    }
   ],
   "source": [
    "def main():\n",
    "    # YOUR CODE GOES HERE\n",
    "    # Please take input and print output to standard input/output (stdin/stdout)\n",
    "    # E.g. 'input()/raw_input()' for input & 'print' for output\n",
    "    import math\n",
    "    marks = input().split(' ')\n",
    "    for i in range(0, len(marks)):\n",
    "        marks[i] = int(marks[i])\n",
    "    per = math.floor(sum(marks)/5)\n",
    "    \n",
    "    if per >= 90 :\n",
    "        grade = 'A'\n",
    "    elif per >= 80:\n",
    "        grade = 'B'\n",
    "    elif per >= 70:\n",
    "        grade = 'C'\n",
    "    elif per >= 60:\n",
    "        grade = 'D'\n",
    "    elif per >= 40:\n",
    "        grade = 'E'\n",
    "    else:\n",
    "        grade = 'F'\n",
    "    \n",
    "    print(per, grade)\n",
    "    return 0\n",
    "\n",
    "if __name__ == '__main__':\n",
    "    main()"
   ]
  }
 ],
 "metadata": {
  "kernelspec": {
   "display_name": "Python 3",
   "language": "python",
   "name": "python3"
  },
  "language_info": {
   "codemirror_mode": {
    "name": "ipython",
    "version": 3
   },
   "file_extension": ".py",
   "mimetype": "text/x-python",
   "name": "python",
   "nbconvert_exporter": "python",
   "pygments_lexer": "ipython3",
   "version": "3.7.6"
  }
 },
 "nbformat": 4,
 "nbformat_minor": 4
}
