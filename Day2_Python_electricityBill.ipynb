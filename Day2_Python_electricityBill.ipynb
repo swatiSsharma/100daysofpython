{
 "cells": [
  {
   "cell_type": "markdown",
   "metadata": {},
   "source": [
    "# Electricity Bill\n",
    "\n",
    "**Problem Description**\n",
    "\n",
    "Given an integer A denoting the amount of units of electricity consumed, you have to calculate the electricity bill (in Rs.) with the help of the below charge conditions:\n",
    "\n",
    "<br> For first 50 units Rs. 0.50/unit\n",
    "<br> For next 100 units Rs. 0.75/unit\n",
    "<br> For next 100 units Rs. 1.20/unit\n",
    "<br> For unit above 250 Rs. 1.50/unit\n",
    "<br> An additional surcharge of 20% is added to the bill.\n",
    "\n",
    "NOTE:\n",
    "<br> \n",
    "<br>As the electricity bill can have any real value (floating point), you have to tell the floor value of the bill.\n",
    "<br>Floor value of a floating point is the closest integer less than or equal to that value. For eg, Floor value of 2.91 is 2.\n",
    "\n",
    "**Problem Constraints**\n",
    "\n",
    "1 <= A <= 500\n",
    "\n",
    "**Input Format**\n",
    "\n",
    "First line of the input contains a single integer A.\n",
    "\n",
    "**Output Format**\n",
    "\n",
    "Print an integer denoting the floor value of the Electricity bill.\n",
    "\n",
    "**Example Input**\n",
    "\n",
    ">Input 1:\n",
    ">\n",
    " >>150 \n",
    ">\n",
    ">Input 2:\n",
    ">\n",
    " >>4 \n",
    "\n",
    "**Example Output**\n",
    "\n",
    ">Output 1:\n",
    ">\n",
    " >>120 \n",
    ">\n",
    ">Output 2:\n",
    ">\n",
    " >>2 \n",
    "\n",
    "**Example Explanation**\n",
    "\n",
    ">Explanation 1:\n",
    "<br> \n",
    "<br> For first 50 units, the bill is (Rs 0.5/unit) * (50 unit) = Rs 25\n",
    "<br> For next 100 units, the bill is (Rs 0.75/unit) * (100 unit) = Rs 75\n",
    "<br> Bill amount without additional surcharge = Rs 100\n",
    "<br> Total Bill amount with additional surcharge = Rs (100 + 0.20 * 100) = Rs 120\n",
    "\n",
    ">Explanation 2:\n",
    "<br> \n",
    "<br> Bill without additional surcharge (Rs 0.5/unit) * (4 unit) = Rs 2\n",
    "<br> Total Bill amount with additional surcharge = Rs (2 + 0.20 * 2) = Rs 2.4\n",
    "<br> Floor value of Bill amount = Rs 2"
   ]
  },
  {
   "cell_type": "code",
   "execution_count": 1,
   "metadata": {},
   "outputs": [
    {
     "name": "stdout",
     "output_type": "stream",
     "text": [
      "150\n",
      "120\n"
     ]
    }
   ],
   "source": [
    "def main():\n",
    "    # YOUR CODE GOES HERE\n",
    "    # Please take input and print output to standard input/output (stdin/stdout)\n",
    "    # E.g. 'input()/raw_input()' for input & 'print' for output\n",
    "    import math\n",
    "    a = int(input())\n",
    "    bill = 0\n",
    "    if a <= 50:  # For first 50 units Rs. 0.50/unit\n",
    "        payAmount = a * 0.50\n",
    "    elif a <= 150: # For next 100 units Rs. 0.75/unit\n",
    "        payAmount = (50*0.50)+((a-50)*0.75)\n",
    "    elif a <= 250: # For next 100 units Rs. 1.20/unit\n",
    "        payAmount = 100 +((abs((a-150))*1.20))\n",
    "    elif a > 250:\n",
    "        payAmount = 220 + ((abs((a-250))*1.50))\n",
    "\n",
    "    print(math.floor(payAmount + payAmount * 0.20))\n",
    "    return 0\n",
    "\n",
    "if __name__ == '__main__':\n",
    "    main()"
   ]
  }
 ],
 "metadata": {
  "kernelspec": {
   "display_name": "Python 3",
   "language": "python",
   "name": "python3"
  },
  "language_info": {
   "codemirror_mode": {
    "name": "ipython",
    "version": 3
   },
   "file_extension": ".py",
   "mimetype": "text/x-python",
   "name": "python",
   "nbconvert_exporter": "python",
   "pygments_lexer": "ipython3",
   "version": "3.8.3"
  }
 },
 "nbformat": 4,
 "nbformat_minor": 4
}
